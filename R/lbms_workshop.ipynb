{
 "cells": [
  {
   "cell_type": "markdown",
   "id": "cb7e02ca-83b4-4c42-922c-b7b29581cb90",
   "metadata": {},
   "source": [
    "# Install algorithms and libraries required for the workshop"
   ]
  },
  {
   "cell_type": "code",
   "execution_count": 4,
   "id": "1cd68ce5-85f5-4eda-a39d-5c83fbad5bc4",
   "metadata": {},
   "outputs": [
    {
     "name": "stderr",
     "output_type": "stream",
     "text": [
      "Installing package into ‘/home/d2gex/R/x86_64-pc-linux-gnu-library/4.2’\n",
      "(as ‘lib’ is unspecified)\n",
      "\n",
      "Warning message:\n",
      "“package ‘ggpubrr’ is not available for this version of R\n",
      "\n",
      "A version of this package for your version of R might be available elsewhere,\n",
      "see the ideas at\n",
      "https://cran.r-project.org/doc/manuals/r-patched/R-admin.html#Installing-packages”\n"
     ]
    }
   ],
   "source": [
    "# ---> Install devtools\n",
    "# install.packages(\"devtools\", repos='http://cran.us.r-project.org') \n",
    "# ---> Install LIME\n",
    "# devtools::install_github(\"merrillrudd/LIME\") \n",
    "\n",
    "# Package names\n",
    "packages <- c(\"LBSPR\", \"tidyverse\", \"R6\", \"ggpubrr\")\n",
    "\n",
    "# Install packages not yet installed\n",
    "installed_packages <- packages %in% rownames(installed.packages())\n",
    "if (any(installed_packages == FALSE)) {\n",
    "  install.packages(packages[!installed_packages])\n",
    "}"
   ]
  },
  {
   "cell_type": "markdown",
   "id": "22757d3d-c39e-4b89-88de-eac064d14419",
   "metadata": {},
   "source": [
    "# Include all libraries required for the workshop"
   ]
  },
  {
   "cell_type": "code",
   "execution_count": null,
   "id": "52d4b4a1-6b8d-406e-a6f3-fd2f011037ce",
   "metadata": {},
   "outputs": [],
   "source": [
    "source(\"config.R\")\n",
    "source(\"utils.R\")\n",
    "source(\"plot_utils.R\")\n",
    "source(\"lbm_data_holder.R\")\n",
    "source(\"lbspr.R\")\n",
    "source(\"lime.R\")\n",
    "source(\"lbi.R\")\n",
    "source(\"algo_plotter.R\")"
   ]
  },
  {
   "cell_type": "code",
   "execution_count": 5,
   "id": "1c7708bb-0e3c-424b-beb9-878006b7788c",
   "metadata": {},
   "outputs": [
    {
     "data": {
      "text/html": [
       "<dl>\n",
       "\t<dt>$platform</dt>\n",
       "\t\t<dd>'x86_64-pc-linux-gnu'</dd>\n",
       "\t<dt>$arch</dt>\n",
       "\t\t<dd>'x86_64'</dd>\n",
       "\t<dt>$os</dt>\n",
       "\t\t<dd>'linux-gnu'</dd>\n",
       "\t<dt>$system</dt>\n",
       "\t\t<dd>'x86_64, linux-gnu'</dd>\n",
       "\t<dt>$status</dt>\n",
       "\t\t<dd>'Patched'</dd>\n",
       "\t<dt>$major</dt>\n",
       "\t\t<dd>'4'</dd>\n",
       "\t<dt>$minor</dt>\n",
       "\t\t<dd>'2.2'</dd>\n",
       "\t<dt>$year</dt>\n",
       "\t\t<dd>'2022'</dd>\n",
       "\t<dt>$month</dt>\n",
       "\t\t<dd>'11'</dd>\n",
       "\t<dt>$day</dt>\n",
       "\t\t<dd>'10'</dd>\n",
       "\t<dt>$`svn rev`</dt>\n",
       "\t\t<dd>'83330'</dd>\n",
       "\t<dt>$language</dt>\n",
       "\t\t<dd>'R'</dd>\n",
       "\t<dt>$version.string</dt>\n",
       "\t\t<dd>'R version 4.2.2 Patched (2022-11-10 r83330)'</dd>\n",
       "\t<dt>$nickname</dt>\n",
       "\t\t<dd>'Innocent and Trusting'</dd>\n",
       "</dl>\n"
      ],
      "text/latex": [
       "\\begin{description}\n",
       "\\item[\\$platform] 'x86\\_64-pc-linux-gnu'\n",
       "\\item[\\$arch] 'x86\\_64'\n",
       "\\item[\\$os] 'linux-gnu'\n",
       "\\item[\\$system] 'x86\\_64, linux-gnu'\n",
       "\\item[\\$status] 'Patched'\n",
       "\\item[\\$major] '4'\n",
       "\\item[\\$minor] '2.2'\n",
       "\\item[\\$year] '2022'\n",
       "\\item[\\$month] '11'\n",
       "\\item[\\$day] '10'\n",
       "\\item[\\$`svn rev`] '83330'\n",
       "\\item[\\$language] 'R'\n",
       "\\item[\\$version.string] 'R version 4.2.2 Patched (2022-11-10 r83330)'\n",
       "\\item[\\$nickname] 'Innocent and Trusting'\n",
       "\\end{description}\n"
      ],
      "text/markdown": [
       "$platform\n",
       ":   'x86_64-pc-linux-gnu'\n",
       "$arch\n",
       ":   'x86_64'\n",
       "$os\n",
       ":   'linux-gnu'\n",
       "$system\n",
       ":   'x86_64, linux-gnu'\n",
       "$status\n",
       ":   'Patched'\n",
       "$major\n",
       ":   '4'\n",
       "$minor\n",
       ":   '2.2'\n",
       "$year\n",
       ":   '2022'\n",
       "$month\n",
       ":   '11'\n",
       "$day\n",
       ":   '10'\n",
       "$`svn rev`\n",
       ":   '83330'\n",
       "$language\n",
       ":   'R'\n",
       "$version.string\n",
       ":   'R version 4.2.2 Patched (2022-11-10 r83330)'\n",
       "$nickname\n",
       ":   'Innocent and Trusting'\n",
       "\n",
       "\n"
      ],
      "text/plain": [
       "$platform\n",
       "[1] \"x86_64-pc-linux-gnu\"\n",
       "\n",
       "$arch\n",
       "[1] \"x86_64\"\n",
       "\n",
       "$os\n",
       "[1] \"linux-gnu\"\n",
       "\n",
       "$system\n",
       "[1] \"x86_64, linux-gnu\"\n",
       "\n",
       "$status\n",
       "[1] \"Patched\"\n",
       "\n",
       "$major\n",
       "[1] \"4\"\n",
       "\n",
       "$minor\n",
       "[1] \"2.2\"\n",
       "\n",
       "$year\n",
       "[1] \"2022\"\n",
       "\n",
       "$month\n",
       "[1] \"11\"\n",
       "\n",
       "$day\n",
       "[1] \"10\"\n",
       "\n",
       "$`svn rev`\n",
       "[1] \"83330\"\n",
       "\n",
       "$language\n",
       "[1] \"R\"\n",
       "\n",
       "$version.string\n",
       "[1] \"R version 4.2.2 Patched (2022-11-10 r83330)\"\n",
       "\n",
       "$nickname\n",
       "[1] \"Innocent and Trusting\"\n"
      ]
     },
     "metadata": {},
     "output_type": "display_data"
    }
   ],
   "source": [
    "R.Version()"
   ]
  },
  {
   "cell_type": "code",
   "execution_count": null,
   "id": "9522c13a-e4b6-4cf6-9dc2-58ae4a7f5bc3",
   "metadata": {},
   "outputs": [],
   "source": []
  }
 ],
 "metadata": {
  "kernelspec": {
   "display_name": "R",
   "language": "R",
   "name": "ir"
  },
  "language_info": {
   "codemirror_mode": "r",
   "file_extension": ".r",
   "mimetype": "text/x-r-source",
   "name": "R",
   "pygments_lexer": "r",
   "version": "4.2.2"
  }
 },
 "nbformat": 4,
 "nbformat_minor": 5
}
