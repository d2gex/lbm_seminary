{
 "cells": [
  {
   "cell_type": "markdown",
   "id": "26eef807-5713-405f-b146-a276f94f4d50",
   "metadata": {},
   "source": [
    "# 1. Data Rich vs Data Poor\n",
    "\n",
    "According to the nature of the data available for fisheries assessments there are two scenarios, those with plenty of data or data-rich and those with very limited details about the underlying stock to study, so-called data-poor or data-limited assessments. \n",
    "\n",
    "## 1.1 Data-rich assessments\n",
    "\n",
    "1. **Total catch** of the fisheries under study\n",
    "2. Fish's hard-part analysis such as otoliths to estimate age, therefore an **age-based evaluation model** is possible.\n",
    "3. Ability to identify and follow cohorts\n",
    "4. In some occasions, **scientific surveys** are available to correct potential vias arising from fishery-dependent data. For example, large parts of the stocks could be confined in a specific area given the impression that there is much more fish available to catch than what there is actually.\n",
    "\n",
    "The return on investement (ROI) is that results are **at scale** and are representative of the stock per se. For example, the total **spawning stock biomass** available year after year would be in tons.\n",
    "\n",
    "## 1.2 Data-poor assessments\n",
    "\n",
    "By contrast data-limited assessments are based on:\n",
    "\n",
    "1. **Individual lengths** obtained from random surveys taking place on board of vessels or at port.\n",
    "2. Sometimes total catch of of the **surveyed hauls** are available, so a **relative index of abudance** may be construted.\n",
    "3. knowledge of the parameters of the **growth equations**, usually Von Bertalanffy.\n",
    "\n",
    "Such a lack of data allows only to establish a series of indicators to evaluate the health of stock. We do not have informaton at scale but **indicative ratios**."
   ]
  },
  {
   "cell_type": "markdown",
   "id": "8055e240-3667-415f-9606-0ac5e2431f9d",
   "metadata": {},
   "source": [
    "![title](../images/data_rich_vs_data_poor.png)"
   ]
  },
  {
   "cell_type": "markdown",
   "id": "33f9716b-c2b9-451c-8e47-79ff9a96bce0",
   "metadata": {},
   "source": [
    "# 2. Overview of the study case: small-scale fisheries in Galicia\n",
    "\n",
    "The small-scale fisheries fleet operating in Galicia is composed of ~4K vessels < 12m in length, using a great variety of fishing gears such as various types of drifting nets, surface and bottom long lines, creels and some artisanal trawling. Around 50K hauls have been surveyed by observers on board between 1999 and 2022 and taking lengths of approximately 595K individuals belonging to 20 different species, as shown in the map below.\n",
    "\n",
    "![title](../images/galicia_fisheries.png)\n",
    "\n",
    "Fisheries observers across the historic timeseries and through random surveys aboard vessels took measures of the lengths and weights of some individuals and noted down the total catch of the haul. With the lengths and weights we used length-based methods (LMBs) to assess the status of all stocks in the study and with the total cacthes we built a relative index of abundance. As shown in red in the figure below, in this workshop we will solely focus on the application of length base methods, more particularly:\n",
    "\n",
    "* Those recommended by WKLIFE ICES such as **Length Based Indicators (LBI)** and **Length-Based Spawning Potential Ratio (LBSPR)**, both assuming *equilibrium conditions*;\n",
    "* By contrast, the one of our choice, **Length-based Integrated Mixed Effects (LIME)** does not require equilibrium as a initial set premise.\n",
    "\n",
    "![title](../images/lbms_pipeline_simplified.png)"
   ]
  },
  {
   "attachments": {},
   "cell_type": "markdown",
   "id": "7d370362-df3c-4adf-94ae-c779e651089a",
   "metadata": {},
   "source": [
    "# 3. Overview of LMBs\n",
    "\n",
    "The three methods have some requirements and assumptions and yield different indicators from which we have selected only the few we have an interest in, as shown in the table below:\n",
    "\n",
    "![title](../images/lbms_assumption_table.png)\n",
    "* (*) Von Bertalanffy growth model for LBSPR and LIME is assumed and Life History Traits (LHTs) must be representative of the socks being studied\n",
    "* 1: Hordyk et al. (2015) ICES Journal of Marine Science, 72; 2: Rudd, n.d. (2017) Accounting for Variability and Biases in Data-limited Fisheries Stock Assessment (dissertation); 3: ICES WKLIFE V REPORT 2015\n",
    "\n",
    "An explanation of each parameter in the table is described below:\n",
    "\n",
    "* **L<sub>inf</sub>**: asymptotic length assuming Von Bertalanffy equation ($L_{t}=L_{inf}(1-\\exp^{(-k(t-t_{0})}))$).\n",
    "* **k**: growth coefficient rate of the Von Bertalanffy equation.\n",
    "* **t<sub>0</sub>**: intercept of the Von Bertalanffy curve with the 'y' axis. Length of fish at age 0.\n",
    "* **L<sub>50</sub>**: length of first sexual maturity assuming a logistic curve.\n",
    "* **L<sub>95</sub>**: length at which 95% of individuals are mature.\n",
    "* **L<sub>wa</sub>**: parameter 'a' in the Length-Weight relationship equation ($W = aL^{b}$).\n",
    "* **L<sub>wb</sub>**: parameter 'b' in the Length-Weight relationship equation.\n",
    "* **M**: constant natural mortality across all cohorts and years.\n",
    "* **R<sub>var</sub>**: recruitment variability.\n",
    "* **F<sub>var</sub>**: fishing mortality varibility to cap inter-annual variation.\n",
    "* **M/K**: Beverton-Holt Life History Invariant (BH-LHIs) that Pauly defined as ~ 1.5 as a rule of thumb for teleosts.\n",
    "* **F/M**: \n"
   ]
  },
  {
   "cell_type": "markdown",
   "id": "9d36dfed-282e-43e9-b0b6-a4bcd21995d0",
   "metadata": {},
   "source": [
    "# 4. Overview of LBI\n",
    "\n",
    "![title](../images/lbi_drawing.png)"
   ]
  },
  {
   "cell_type": "markdown",
   "id": "cb7e02ca-83b4-4c42-922c-b7b29581cb90",
   "metadata": {},
   "source": [
    "# 1. Install algorithms and libraries required for the workshop"
   ]
  },
  {
   "cell_type": "code",
   "execution_count": 1,
   "id": "1cd68ce5-85f5-4eda-a39d-5c83fbad5bc4",
   "metadata": {},
   "outputs": [],
   "source": [
    "# # ---> Install devtools\n",
    "# install.packages(\"devtools\", repos='http://cran.us.r-project.org') \n",
    "# # ---> Install LIME\n",
    "# devtools::install_github(\"merrillrudd/LIME\") \n",
    "\n",
    "# # Install rest of supporting packages\n",
    "# packages <- c(\"LBSPR\", \"tidyverse\", \"R6\", \"ggpubr\")\n",
    "\n",
    "# # Install packages not yet installed\n",
    "# installed_packages <- packages %in% rownames(installed.packages())\n",
    "# if (any(installed_packages == FALSE)) {\n",
    "#   install.packages(packages[!installed_packages])\n",
    "# }"
   ]
  },
  {
   "cell_type": "markdown",
   "id": "22757d3d-c39e-4b89-88de-eac064d14419",
   "metadata": {},
   "source": [
    "# 4. Include all libraries required for the workshop"
   ]
  },
  {
   "cell_type": "code",
   "execution_count": 2,
   "id": "52d4b4a1-6b8d-406e-a6f3-fd2f011037ce",
   "metadata": {},
   "outputs": [
    {
     "name": "stderr",
     "output_type": "stream",
     "text": [
      "\n",
      "Attaching package: ‘dplyr’\n",
      "\n",
      "\n",
      "The following objects are masked from ‘package:data.table’:\n",
      "\n",
      "    between, first, last\n",
      "\n",
      "\n",
      "The following objects are masked from ‘package:stats’:\n",
      "\n",
      "    filter, lag\n",
      "\n",
      "\n",
      "The following objects are masked from ‘package:base’:\n",
      "\n",
      "    intersect, setdiff, setequal, union\n",
      "\n",
      "\n",
      "Loading required package: ggplot2\n",
      "\n"
     ]
    },
    {
     "ename": "ERROR",
     "evalue": "Error in library(\"openxlsx\"): there is no package called ‘openxlsx’\n",
     "output_type": "error",
     "traceback": [
      "Error in library(\"openxlsx\"): there is no package called ‘openxlsx’\nTraceback:\n",
      "1. source(\"utils.R\")",
      "2. withVisible(eval(ei, envir))",
      "3. eval(ei, envir)",
      "4. eval(ei, envir)",
      "5. library(\"openxlsx\")"
     ]
    }
   ],
   "source": [
    "source(\"config.R\")\n",
    "source(\"utils.R\")\n",
    "source(\"plot_utils.R\")\n",
    "source(\"lbm_data_holder.R\")\n",
    "source(\"lbspr.R\")\n",
    "source(\"lime.R\")\n",
    "source(\"lbi.R\")\n",
    "source(\"algo_plotter.R\")"
   ]
  },
  {
   "cell_type": "code",
   "execution_count": null,
   "id": "320e8988-d596-4206-8886-d04c0815abb4",
   "metadata": {},
   "outputs": [],
   "source": []
  }
 ],
 "metadata": {
  "kernelspec": {
   "display_name": "R",
   "language": "R",
   "name": "ir"
  },
  "language_info": {
   "codemirror_mode": "r",
   "file_extension": ".r",
   "mimetype": "text/x-r-source",
   "name": "R",
   "pygments_lexer": "r",
   "version": "4.3.2"
  }
 },
 "nbformat": 4,
 "nbformat_minor": 5
}
